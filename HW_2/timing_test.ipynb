{
 "cells": [
  {
   "cell_type": "code",
   "execution_count": 27,
   "metadata": {},
   "outputs": [],
   "source": [
    "from random import random"
   ]
  },
  {
   "cell_type": "code",
   "execution_count": 55,
   "metadata": {},
   "outputs": [],
   "source": [
    "# Makes a list of random floats\n",
    "def create_list(num):\n",
    "    rand_list = []\n",
    "    for i in range(num):\n",
    "        rand_list.append(random())\n",
    "    return rand_list"
   ]
  },
  {
   "cell_type": "code",
   "execution_count": 56,
   "metadata": {},
   "outputs": [],
   "source": [
    "# Sorts list\n",
    "def sort_list(rand_list):\n",
    "    return sorted(rand_list)"
   ]
  },
  {
   "cell_type": "code",
   "execution_count": 57,
   "metadata": {},
   "outputs": [],
   "source": [
    "# Increasingly adds values to the list while appraching the target time\n",
    "def find_time(seconds, start=50000, big_step=1000, little_step=100):\n",
    "    max_size = start\n",
    "    mean = 0\n",
    "    found_mean = 0\n",
    "\n",
    "    # First increases the size of the list in large steps\n",
    "    # increments, then after hitting the target time in smaller steps\n",
    "    while mean < seconds:\n",
    "        if found_mean >= seconds:\n",
    "            max_size += little_step\n",
    "            rand_list = create_list(max_size)\n",
    "            time_res = %timeit -o sort_list(rand_list)\n",
    "            mean = sum(time_res.timings) / len(time_res.timings)\n",
    "        else:\n",
    "            rand_list = create_list(max_size)\n",
    "            time_res = %timeit -o sort_list(rand_list)\n",
    "            found_mean = sum(time_res.timings) / len(time_res.timings)\n",
    "            if found_mean < seconds:\n",
    "                max_size += big_step\n",
    "\n",
    "    print('The max size for %s seconds is: '% seconds)\n",
    "    print(max_size)"
   ]
  },
  {
   "cell_type": "code",
   "execution_count": 58,
   "metadata": {},
   "outputs": [
    {
     "name": "stdout",
     "output_type": "stream",
     "text": [
      "8.79 ms ± 957 µs per loop (mean ± std. dev. of 7 runs, 100 loops each)\n",
      "7.78 ms ± 29.7 µs per loop (mean ± std. dev. of 7 runs, 100 loops each)\n",
      "8.04 ms ± 107 µs per loop (mean ± std. dev. of 7 runs, 100 loops each)\n",
      "8.14 ms ± 34 µs per loop (mean ± std. dev. of 7 runs, 100 loops each)\n",
      "8.36 ms ± 51.6 µs per loop (mean ± std. dev. of 7 runs, 100 loops each)\n",
      "8.51 ms ± 13 µs per loop (mean ± std. dev. of 7 runs, 100 loops each)\n",
      "8.71 ms ± 37.5 µs per loop (mean ± std. dev. of 7 runs, 100 loops each)\n",
      "8.89 ms ± 18.7 µs per loop (mean ± std. dev. of 7 runs, 100 loops each)\n",
      "9.11 ms ± 47.1 µs per loop (mean ± std. dev. of 7 runs, 100 loops each)\n",
      "9.3 ms ± 19 µs per loop (mean ± std. dev. of 7 runs, 100 loops each)\n",
      "9.47 ms ± 14.4 µs per loop (mean ± std. dev. of 7 runs, 100 loops each)\n",
      "9.7 ms ± 20.3 µs per loop (mean ± std. dev. of 7 runs, 100 loops each)\n",
      "9.91 ms ± 15.8 µs per loop (mean ± std. dev. of 7 runs, 100 loops each)\n",
      "11.7 ms ± 1.44 ms per loop (mean ± std. dev. of 7 runs, 100 loops each)\n",
      "12.6 ms ± 1.21 ms per loop (mean ± std. dev. of 7 runs, 100 loops each)\n",
      "The max size for 0.01 seconds is: \n",
      "58100\n"
     ]
    }
   ],
   "source": [
    "find_time(.01, 45000)"
   ]
  },
  {
   "cell_type": "code",
   "execution_count": 59,
   "metadata": {},
   "outputs": [
    {
     "name": "stdout",
     "output_type": "stream",
     "text": [
      "225 ms ± 79.7 ms per loop (mean ± std. dev. of 7 runs, 1 loop each)\n",
      "144 ms ± 49.8 ms per loop (mean ± std. dev. of 7 runs, 10 loops each)\n",
      "The max size for 0.1 seconds is: \n",
      "350500\n"
     ]
    }
   ],
   "source": [
    "find_time(.1, start=350000, big_step=5000, little_step=500)"
   ]
  },
  {
   "cell_type": "code",
   "execution_count": 60,
   "metadata": {},
   "outputs": [
    {
     "name": "stdout",
     "output_type": "stream",
     "text": [
      "958 ms ± 14.5 ms per loop (mean ± std. dev. of 7 runs, 1 loop each)\n",
      "948 ms ± 7.3 ms per loop (mean ± std. dev. of 7 runs, 1 loop each)\n",
      "951 ms ± 12 ms per loop (mean ± std. dev. of 7 runs, 1 loop each)\n",
      "1 s ± 58.2 ms per loop (mean ± std. dev. of 7 runs, 1 loop each)\n",
      "1.05 s ± 34 ms per loop (mean ± std. dev. of 7 runs, 1 loop each)\n",
      "The max size for 1 seconds is: \n",
      "2531000\n"
     ]
    }
   ],
   "source": [
    "find_time(1, start=2500000, big_step=10000, little_step=1000)"
   ]
  },
  {
   "cell_type": "code",
   "execution_count": null,
   "metadata": {},
   "outputs": [],
   "source": []
  }
 ],
 "metadata": {
  "kernelspec": {
   "display_name": "Python 3",
   "language": "python",
   "name": "python3"
  },
  "language_info": {
   "codemirror_mode": {
    "name": "ipython",
    "version": 3
   },
   "file_extension": ".py",
   "mimetype": "text/x-python",
   "name": "python",
   "nbconvert_exporter": "python",
   "pygments_lexer": "ipython3",
   "version": "3.7.2"
  }
 },
 "nbformat": 4,
 "nbformat_minor": 2
}
